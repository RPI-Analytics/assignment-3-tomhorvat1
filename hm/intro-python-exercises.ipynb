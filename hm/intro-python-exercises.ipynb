{
 "cells": [
  {
   "cell_type": "markdown",
   "metadata": {},
   "source": [
    "## Introduction to Python Exercises\n",
    "\n",
    "Before you turn this problem in, make sure everything runs as expected. First, restart the kernel (in the menubar, select Kernel → Restart) and then run all cells (in the menubar, select Cell → Run All).  You can speak with others regarding the assignment but all work must be your own. \n",
    "\n",
    "\n",
    "### This is a 30 point assignment graded from answers to questions and automated tests that should be run at the bottom. Be sure to clearly label all of your answers and commit final tests at the end. If you attempt to fake passing the tests you will receive a 0 on the assignment and it will be considered an ethical violation. (Note, not all questions have tests).\n"
   ]
  },
  {
   "cell_type": "code",
   "execution_count": 1,
   "metadata": {
    "collapsed": true
   },
   "outputs": [],
   "source": [
    "NAME = \"Jason Kuruzovich\"\n",
    "COLLABORATORS = [\"Cody Kazakoff,Stefan Streetup,Dillan Veeder\"]  #You can speak with others regarding the assignment, but all typed work must be your own."
   ]
  },
  {
   "cell_type": "code",
   "execution_count": 2,
   "metadata": {
    "collapsed": true
   },
   "outputs": [],
   "source": [
    "# If you have trouble loading your unittests below, \n",
    "#!conda config --add channels conda-forge"
   ]
  },
  {
   "cell_type": "code",
   "execution_count": 3,
   "metadata": {
    "collapsed": true
   },
   "outputs": [],
   "source": [
    "#!conda install --yes ipython_unittest"
   ]
  },
  {
   "cell_type": "markdown",
   "metadata": {},
   "source": [
    "### This Loads a Testing Array \n",
    "- This runs tests against your b array.  If you complete the assingment correctly, you will pass the tests. \n",
    "- **If you attempt to fake passing the tests you will receive a 0 on the assignment and it will be considered an ethical violation.**"
   ]
  },
  {
   "cell_type": "code",
   "execution_count": 4,
   "metadata": {
    "collapsed": true
   },
   "outputs": [],
   "source": [
    "%load_ext ipython_unittest\n",
    "#This runs tests against your b array.  If you complete the assingment correctly, you will pass the tests. "
   ]
  },
  {
   "cell_type": "markdown",
   "metadata": {},
   "source": [
    "## Exercises - For and If.\n",
    "\n",
    "(1). Write a program which create a list called `fivetoten` of all numbers from 5 to 10 (inclusive).\n",
    "\n",
    "\n"
   ]
  },
  {
   "cell_type": "code",
   "execution_count": 5,
   "metadata": {},
   "outputs": [
    {
     "name": "stdout",
     "output_type": "stream",
     "text": [
      "[5, 6, 7, 8, 9, 10]\n"
     ]
    }
   ],
   "source": [
    "listfivetoten= [5,6,7,8,9,10]\n",
    "print (listfivetoten)"
   ]
  },
  {
   "cell_type": "markdown",
   "metadata": {},
   "source": [
    "(2). Write a program which uses a for loop and if statements to create a list called `divby7` of all numbers from 1-50 that are divisible by 7.\n",
    "Hint: 14 is divisible by 7 if 14%7==0."
   ]
  },
  {
   "cell_type": "code",
   "execution_count": 6,
   "metadata": {},
   "outputs": [
    {
     "name": "stdout",
     "output_type": "stream",
     "text": [
      "[7, 14, 21, 28, 35, 42, 49]\n"
     ]
    }
   ],
   "source": [
    "\n",
    "divby = []\n",
    "for x in range(1,51):\n",
    "    if (x%7==0):\n",
    "        divby.append(x)\n",
    "        \n",
    "print (divby)"
   ]
  },
  {
   "cell_type": "markdown",
   "metadata": {},
   "source": [
    "(3). Write a program which uses a for loop and if statements create a list `divby7not5` of all numbers which are divisible by 7 but are not a multiple of 5, between 10000 and 10100 (both included). \n"
   ]
  },
  {
   "cell_type": "code",
   "execution_count": 7,
   "metadata": {},
   "outputs": [
    {
     "name": "stdout",
     "output_type": "stream",
     "text": [
      "[10003, 10017, 10024, 10031, 10038, 10052, 10059, 10066, 10073, 10087, 10094]\n"
     ]
    }
   ],
   "source": [
    "divby7=[]\n",
    "divby7not5=[]\n",
    "for x in range(10000,10101):\n",
    "    if (x%7==0):\n",
    "        divby7.append(x)\n",
    "for y in divby7:\n",
    "    if (y%5!=0):\n",
    "        divby7not5.append(y)\n",
    "print(divby7not5)"
   ]
  },
  {
   "cell_type": "markdown",
   "metadata": {},
   "source": [
    "## Exercises - Functions\n",
    "\n",
    "(4). Create a function `divby2` that accepts a list and returns all values from that list that are divisible by 2.  For example, passing the list  `numbers = [3, 12, 91, 33, 21, 34, 54, 34, 34, 54]` should return a list. Generate a new list `divby2` that includes only numbers that are divisible by 2. "
   ]
  },
  {
   "cell_type": "code",
   "execution_count": 8,
   "metadata": {
    "collapsed": true
   },
   "outputs": [],
   "source": [
    "def divby2(x):\n",
    "    divby2=[]\n",
    "    for y in x:\n",
    "        if (y%2==0):\n",
    "            divby2.append(y)\n",
    "    return divby2\n",
    "            \n",
    "            "
   ]
  },
  {
   "cell_type": "code",
   "execution_count": 9,
   "metadata": {},
   "outputs": [
    {
     "name": "stdout",
     "output_type": "stream",
     "text": [
      "[12, 34, 54, 34, 34, 54]\n"
     ]
    }
   ],
   "source": [
    "#Execute this code to assign divby2 to the correct values. \n",
    "numbers = [3, 12, 91, 33, 21, 34, 54, 34, 34, 54]\n",
    "divby2=divby2(numbers)\n",
    "print(divby2)\n",
    "\n"
   ]
  },
  {
   "cell_type": "markdown",
   "metadata": {},
   "source": [
    "(5) Create an external module for your `divby2` function called `myutilities.py`.  Import myutilities as mu, such that that following runs.\n",
    "\n"
   ]
  },
  {
   "cell_type": "code",
   "execution_count": 10,
   "metadata": {
    "collapsed": true
   },
   "outputs": [],
   "source": [
    "#After importing this should work. (Feel free to add code to reimport)\n",
    "import myutilities as mu\n",
    "divby2mod = mu.divby2 (numbers)"
   ]
  },
  {
   "cell_type": "markdown",
   "metadata": {},
   "source": [
    "## Exercises-Titanic\n",
    "\n",
    "The following exercises will use the titanic data from Kaggle.  I've included it in the input folder just like Kaggle. "
   ]
  },
  {
   "cell_type": "code",
   "execution_count": 11,
   "metadata": {
    "collapsed": true
   },
   "outputs": [],
   "source": [
    "import numpy as np \n",
    "import pandas as pd \n",
    "\n",
    "# Input data files are available in the \"../input/\" directory.\n",
    "# Let's input them into a Pandas DataFrame\n",
    "train = pd.read_csv(\"../input/train.csv\")\n",
    "test  = pd.read_csv(\"../input/test.csv\")"
   ]
  },
  {
   "cell_type": "markdown",
   "metadata": {},
   "source": [
    "\n",
    "\n",
    "(6). While we can submit our answer to Kaggle to see how it will perform, we can also utilize our test data to assess accuracy. Accuracy is the percentage of predictions made correctly-i.e., the percentage of people in which our prediction regarding their survival. <br>Create columns in the training dataset `PredEveryoneDies` and `PredGender` with the same predictions which were included in the example notebook (06-intro-kaggle-baseline in the materials repository).   \n",
    "  \n",
    "\n"
   ]
  },
  {
   "cell_type": "code",
   "execution_count": 12,
   "metadata": {
    "collapsed": true
   },
   "outputs": [],
   "source": [
    "train [\"PredEveryoneDies\"] = 0"
   ]
  },
  {
   "cell_type": "code",
   "execution_count": 13,
   "metadata": {},
   "outputs": [
    {
     "data": {
      "text/plain": [
       "0      0.0\n",
       "1      1.0\n",
       "2      1.0\n",
       "3      1.0\n",
       "4      0.0\n",
       "5      0.0\n",
       "6      0.0\n",
       "7      0.0\n",
       "8      1.0\n",
       "9      1.0\n",
       "10     1.0\n",
       "11     1.0\n",
       "12     0.0\n",
       "13     0.0\n",
       "14     1.0\n",
       "15     1.0\n",
       "16     0.0\n",
       "17     0.0\n",
       "18     1.0\n",
       "19     1.0\n",
       "20     0.0\n",
       "21     0.0\n",
       "22     1.0\n",
       "23     0.0\n",
       "24     1.0\n",
       "25     1.0\n",
       "26     0.0\n",
       "27     0.0\n",
       "28     1.0\n",
       "29     0.0\n",
       "      ... \n",
       "861    0.0\n",
       "862    1.0\n",
       "863    1.0\n",
       "864    0.0\n",
       "865    1.0\n",
       "866    1.0\n",
       "867    0.0\n",
       "868    0.0\n",
       "869    0.0\n",
       "870    0.0\n",
       "871    1.0\n",
       "872    0.0\n",
       "873    0.0\n",
       "874    1.0\n",
       "875    1.0\n",
       "876    0.0\n",
       "877    0.0\n",
       "878    0.0\n",
       "879    1.0\n",
       "880    1.0\n",
       "881    0.0\n",
       "882    1.0\n",
       "883    0.0\n",
       "884    0.0\n",
       "885    1.0\n",
       "886    0.0\n",
       "887    1.0\n",
       "888    1.0\n",
       "889    0.0\n",
       "890    0.0\n",
       "Name: PredGender, Length: 891, dtype: float64"
      ]
     },
     "execution_count": 13,
     "metadata": {},
     "output_type": "execute_result"
    }
   ],
   "source": [
    "train.loc[train['Sex'] == 'male', 'PredGender'] = 0\n",
    "train.loc[train['Sex'] == 'female', 'PredGender'] = 1\n",
    "train.PredGender.astype(int)\n",
    "train['PredGender']"
   ]
  },
  {
   "cell_type": "code",
   "execution_count": 14,
   "metadata": {},
   "outputs": [
    {
     "data": {
      "text/html": [
       "<div>\n",
       "<style>\n",
       "    .dataframe thead tr:only-child th {\n",
       "        text-align: right;\n",
       "    }\n",
       "\n",
       "    .dataframe thead th {\n",
       "        text-align: left;\n",
       "    }\n",
       "\n",
       "    .dataframe tbody tr th {\n",
       "        vertical-align: top;\n",
       "    }\n",
       "</style>\n",
       "<table border=\"1\" class=\"dataframe\">\n",
       "  <thead>\n",
       "    <tr style=\"text-align: right;\">\n",
       "      <th></th>\n",
       "      <th>PassengerId</th>\n",
       "      <th>Survived</th>\n",
       "      <th>Pclass</th>\n",
       "      <th>Name</th>\n",
       "      <th>Sex</th>\n",
       "      <th>Age</th>\n",
       "      <th>SibSp</th>\n",
       "      <th>Parch</th>\n",
       "      <th>Ticket</th>\n",
       "      <th>Fare</th>\n",
       "      <th>Cabin</th>\n",
       "      <th>Embarked</th>\n",
       "      <th>PredEveryoneDies</th>\n",
       "      <th>PredGender</th>\n",
       "    </tr>\n",
       "  </thead>\n",
       "  <tbody>\n",
       "    <tr>\n",
       "      <th>0</th>\n",
       "      <td>1</td>\n",
       "      <td>0</td>\n",
       "      <td>3</td>\n",
       "      <td>Braund, Mr. Owen Harris</td>\n",
       "      <td>male</td>\n",
       "      <td>22.0</td>\n",
       "      <td>1</td>\n",
       "      <td>0</td>\n",
       "      <td>A/5 21171</td>\n",
       "      <td>7.2500</td>\n",
       "      <td>NaN</td>\n",
       "      <td>S</td>\n",
       "      <td>0</td>\n",
       "      <td>0.0</td>\n",
       "    </tr>\n",
       "    <tr>\n",
       "      <th>1</th>\n",
       "      <td>2</td>\n",
       "      <td>1</td>\n",
       "      <td>1</td>\n",
       "      <td>Cumings, Mrs. John Bradley (Florence Briggs Th...</td>\n",
       "      <td>female</td>\n",
       "      <td>38.0</td>\n",
       "      <td>1</td>\n",
       "      <td>0</td>\n",
       "      <td>PC 17599</td>\n",
       "      <td>71.2833</td>\n",
       "      <td>C85</td>\n",
       "      <td>C</td>\n",
       "      <td>0</td>\n",
       "      <td>1.0</td>\n",
       "    </tr>\n",
       "    <tr>\n",
       "      <th>2</th>\n",
       "      <td>3</td>\n",
       "      <td>1</td>\n",
       "      <td>3</td>\n",
       "      <td>Heikkinen, Miss. Laina</td>\n",
       "      <td>female</td>\n",
       "      <td>26.0</td>\n",
       "      <td>0</td>\n",
       "      <td>0</td>\n",
       "      <td>STON/O2. 3101282</td>\n",
       "      <td>7.9250</td>\n",
       "      <td>NaN</td>\n",
       "      <td>S</td>\n",
       "      <td>0</td>\n",
       "      <td>1.0</td>\n",
       "    </tr>\n",
       "    <tr>\n",
       "      <th>3</th>\n",
       "      <td>4</td>\n",
       "      <td>1</td>\n",
       "      <td>1</td>\n",
       "      <td>Futrelle, Mrs. Jacques Heath (Lily May Peel)</td>\n",
       "      <td>female</td>\n",
       "      <td>35.0</td>\n",
       "      <td>1</td>\n",
       "      <td>0</td>\n",
       "      <td>113803</td>\n",
       "      <td>53.1000</td>\n",
       "      <td>C123</td>\n",
       "      <td>S</td>\n",
       "      <td>0</td>\n",
       "      <td>1.0</td>\n",
       "    </tr>\n",
       "    <tr>\n",
       "      <th>4</th>\n",
       "      <td>5</td>\n",
       "      <td>0</td>\n",
       "      <td>3</td>\n",
       "      <td>Allen, Mr. William Henry</td>\n",
       "      <td>male</td>\n",
       "      <td>35.0</td>\n",
       "      <td>0</td>\n",
       "      <td>0</td>\n",
       "      <td>373450</td>\n",
       "      <td>8.0500</td>\n",
       "      <td>NaN</td>\n",
       "      <td>S</td>\n",
       "      <td>0</td>\n",
       "      <td>0.0</td>\n",
       "    </tr>\n",
       "  </tbody>\n",
       "</table>\n",
       "</div>"
      ],
      "text/plain": [
       "   PassengerId  Survived  Pclass  \\\n",
       "0            1         0       3   \n",
       "1            2         1       1   \n",
       "2            3         1       3   \n",
       "3            4         1       1   \n",
       "4            5         0       3   \n",
       "\n",
       "                                                Name     Sex   Age  SibSp  \\\n",
       "0                            Braund, Mr. Owen Harris    male  22.0      1   \n",
       "1  Cumings, Mrs. John Bradley (Florence Briggs Th...  female  38.0      1   \n",
       "2                             Heikkinen, Miss. Laina  female  26.0      0   \n",
       "3       Futrelle, Mrs. Jacques Heath (Lily May Peel)  female  35.0      1   \n",
       "4                           Allen, Mr. William Henry    male  35.0      0   \n",
       "\n",
       "   Parch            Ticket     Fare Cabin Embarked  PredEveryoneDies  \\\n",
       "0      0         A/5 21171   7.2500   NaN        S                 0   \n",
       "1      0          PC 17599  71.2833   C85        C                 0   \n",
       "2      0  STON/O2. 3101282   7.9250   NaN        S                 0   \n",
       "3      0            113803  53.1000  C123        S                 0   \n",
       "4      0            373450   8.0500   NaN        S                 0   \n",
       "\n",
       "   PredGender  \n",
       "0         0.0  \n",
       "1         1.0  \n",
       "2         1.0  \n",
       "3         1.0  \n",
       "4         0.0  "
      ]
     },
     "execution_count": 14,
     "metadata": {},
     "output_type": "execute_result"
    }
   ],
   "source": [
    "train.head()"
   ]
  },
  {
   "cell_type": "markdown",
   "metadata": {},
   "source": [
    "(7) Create variables `AccEveryoneDies` and `AccGender` using a calculation of accuracy of predictions for the `training` dataset.  "
   ]
  },
  {
   "cell_type": "code",
   "execution_count": 15,
   "metadata": {},
   "outputs": [
    {
     "data": {
      "text/plain": [
       "0.61616161616161613"
      ]
     },
     "execution_count": 15,
     "metadata": {},
     "output_type": "execute_result"
    }
   ],
   "source": [
    "import numpy as np\n",
    "from sklearn.metrics import accuracy_score\n",
    "y_true = train.Survived\n",
    "y_pred = train.PredEveryoneDies\n",
    "AccEveryoneDies = accuracy_score(y_true, y_pred)\n",
    "AccEveryoneDies\n",
    "                            "
   ]
  },
  {
   "cell_type": "code",
   "execution_count": 16,
   "metadata": {},
   "outputs": [
    {
     "data": {
      "text/plain": [
       "0.78675645342312006"
      ]
     },
     "execution_count": 16,
     "metadata": {},
     "output_type": "execute_result"
    }
   ],
   "source": [
    "import numpy as np\n",
    "from sklearn.metrics import accuracy_score\n",
    "y_true = train.Survived\n",
    "y_pred = train.PredGender\n",
    "AccGender = accuracy_score(y_true, y_pred)\n",
    "AccGender"
   ]
  },
  {
   "cell_type": "markdown",
   "metadata": {},
   "source": [
    "(8). Notice how we are utilizing the code to select out the `passengerID` and the `Survived` column and generating a submission file over and over? This is in need of a function.  Create a `generate_submission` function that accepts a DataFrame, a target column, and a filename and writes out the submission file with just the `passengerID` and the `Survived` columns, where the survived column is equal to the target column. It should then return a DataFrame with the `passengerID` and the `Survived` columns.\n",
    "\n",
    "Executeing the following:\n",
    "`submitdie = generate_submission(train, 'PredEveryoneDies', 'submiteveryonedies.csv')`\n",
    "\n",
    "Should return a dataframe with just `passengerID` and the `Survived` column.  \n",
    "\n",
    "\n"
   ]
  },
  {
   "cell_type": "code",
   "execution_count": 17,
   "metadata": {
    "collapsed": true
   },
   "outputs": [],
   "source": [
    "def generate_submission(df,col,file):\n",
    "    submission = df.loc[:,[\"PassengerId\", col]]\n",
    "    submission.rename(columns={col: 'Survived'}, inplace=True)\n",
    "    submission.to_csv(file, index=False)\n",
    "    return submission\n",
    "\n",
    "submitdie = generate_submission(test, 'PredEveryoneDies', 'submiteveryonedies.csv')"
   ]
  },
  {
   "cell_type": "markdown",
   "metadata": {},
   "source": [
    "\n",
    "(9). In accordance to the [women and children first](https://en.wikipedia.org/wiki/Women_and_children_first) protocol, we hypothesize that our model could be improved by including whether the individual was a child in addition to gender.  *After* coding survival based on gender, update your recommendation to prediction in the training dataset survival based on age. <br> <br>\n",
    "\n",
    "In other words, your model should predict that a male child would survive.  \n",
    "\n",
    "`train['PredGenderAge13']` should be the prediction incorporating both Gender and whether Age <  13.\n",
    "`train['PredGenderAge18']` should be the prediction incorporating both Gender and whether Age <  18.\n",
    "`AccGenderAge13` should be the accuracy of the age prediction, based on `train['PredGenderAge13']`. \n",
    "`AccGenderAge18` should be the accuracy of the age prediction, based on `train['PredGenderAge18']`.\n",
    "\n",
    "\n"
   ]
  },
  {
   "cell_type": "code",
   "execution_count": 18,
   "metadata": {
    "collapsed": true
   },
   "outputs": [],
   "source": [
    "missing_ages = train[train['Age'].isnull()]\n",
    "\n",
    "mean_ages = train.groupby(['Sex','Pclass'])['Age'].mean()\n",
    "\n",
    "def remove_na_ages(row):\n",
    "    \n",
    "    if pd.isnull(row['Age']):\n",
    "        return mean_ages[row['Sex'],row['Pclass']]\n",
    "    else:\n",
    "        return row ['Age']\n",
    "train['Age'] =train.apply(remove_na_ages, axis=1)\n"
   ]
  },
  {
   "cell_type": "code",
   "execution_count": 19,
   "metadata": {},
   "outputs": [
    {
     "data": {
      "text/plain": [
       "0      0.0\n",
       "1      0.0\n",
       "2      0.0\n",
       "3      0.0\n",
       "4      0.0\n",
       "5      0.0\n",
       "6      0.0\n",
       "7      1.0\n",
       "8      0.0\n",
       "9      0.0\n",
       "10     1.0\n",
       "11     0.0\n",
       "12     0.0\n",
       "13     0.0\n",
       "14     0.0\n",
       "15     0.0\n",
       "16     1.0\n",
       "17     0.0\n",
       "18     0.0\n",
       "19     0.0\n",
       "20     0.0\n",
       "21     0.0\n",
       "22     0.0\n",
       "23     0.0\n",
       "24     1.0\n",
       "25     0.0\n",
       "26     0.0\n",
       "27     0.0\n",
       "28     0.0\n",
       "29     0.0\n",
       "      ... \n",
       "861    0.0\n",
       "862    0.0\n",
       "863    0.0\n",
       "864    0.0\n",
       "865    0.0\n",
       "866    0.0\n",
       "867    0.0\n",
       "868    0.0\n",
       "869    1.0\n",
       "870    0.0\n",
       "871    0.0\n",
       "872    0.0\n",
       "873    0.0\n",
       "874    0.0\n",
       "875    0.0\n",
       "876    0.0\n",
       "877    0.0\n",
       "878    0.0\n",
       "879    0.0\n",
       "880    0.0\n",
       "881    0.0\n",
       "882    0.0\n",
       "883    0.0\n",
       "884    0.0\n",
       "885    0.0\n",
       "886    0.0\n",
       "887    0.0\n",
       "888    0.0\n",
       "889    0.0\n",
       "890    0.0\n",
       "Name: PredGenderAge13, Length: 891, dtype: float64"
      ]
     },
     "execution_count": 19,
     "metadata": {},
     "output_type": "execute_result"
    }
   ],
   "source": [
    "train.loc[train['Sex'] == 'Male', 'PredGenderAge13']=0\n",
    "train.loc[train['Sex'] == 'Male', 'PredGenderAge13']=1\n",
    "train.loc[train['Age'] > 13, 'PredGenderAge13']=0\n",
    "train.loc[train['Age'] < 13, 'PredGenderAge13']=1\n",
    "train.PredGenderAge13"
   ]
  },
  {
   "cell_type": "raw",
   "metadata": {},
   "source": []
  },
  {
   "cell_type": "markdown",
   "metadata": {},
   "source": [
    "(10). Create a prediction file for the \"women and children first\" model in column` PredGenderAge13` and upload it to Kaggle.  Take a screen shot of your position. Put that screenshot in this repository and use markdown to show your results in the cell below.  The syntax for including a markdown picture is shown below.  \n",
    "\n",
    "```\n",
    "![]myscreenshot.png\n",
    "```"
   ]
  },
  {
   "cell_type": "code",
   "execution_count": 20,
   "metadata": {
    "collapsed": true
   },
   "outputs": [],
   "source": [
    "def generate_submission(df,col,file):\n",
    "    submission = df.loc[:,[\"PassengerId\", col]]\n",
    "    submission.rename(columns={col: 'Survived'}, inplace=True)\n",
    "    submission.to_csv(file, index=False)\n",
    "    return submission\n",
    "\n",
    "submitdie = generate_submission(test, 'PredGenderAge13', 'PredGenderAge.csv')"
   ]
  },
  {
   "cell_type": "markdown",
   "metadata": {},
   "source": [
    "(11). You should find that the AccGenderAge13 is better than AccGenderAge18. Create a new column `child` in the test and train DataFrames that is 1 if Age <  13 and 0 otherwise.  This is a *feature*.  We will talk more about features next time.  \n",
    "\n",
    "\n"
   ]
  },
  {
   "cell_type": "code",
   "execution_count": 21,
   "metadata": {
    "collapsed": true
   },
   "outputs": [],
   "source": [
    "train.loc[train['Age']>13, 'child'] = 0\n",
    "train.loc[train['Age']<13, 'child'] = 1"
   ]
  },
  {
   "cell_type": "code",
   "execution_count": 22,
   "metadata": {
    "collapsed": true
   },
   "outputs": [],
   "source": [
    "test.loc[train['Age']>13, 'child'] = 0\n",
    "test.loc[train['Age']>13, 'child'] = 1"
   ]
  },
  {
   "cell_type": "code",
   "execution_count": 23,
   "metadata": {},
   "outputs": [
    {
     "data": {
      "application/unittest.status+json": {
       "color": "yellow",
       "message": "",
       "previous": 0
      },
      "text/plain": []
     },
     "metadata": {},
     "output_type": "display_data"
    },
    {
     "data": {
      "application/unittest.status+json": {
       "color": "salmon",
       "message": ".EF.F.FF...FEEE\n======================================================================\nERROR: test_forif1 (__main__.TestExercise3)\n----------------------------------------------------------------------\nTraceback (most recent call last):\n  File \"Cell Tests\", line 3, in test_forif1\nNameError: name 'fivetoten' is not defined\n\n======================================================================\nERROR: test_titanic7 (__main__.TestExercise3)\n----------------------------------------------------------------------\nTraceback (most recent call last):\n  File \"C:\\Users\\Tom Horvat\\Anaconda2\\lib\\site-packages\\pandas\\core\\indexes\\base.py\", line 2442, in get_loc\n    return self._engine.get_loc(key)\n  File \"pandas\\_libs\\index.pyx\", line 132, in pandas._libs.index.IndexEngine.get_loc\n  File \"pandas\\_libs\\index.pyx\", line 154, in pandas._libs.index.IndexEngine.get_loc\n  File \"pandas\\_libs\\hashtable_class_helper.pxi\", line 1210, in pandas._libs.hashtable.PyObjectHashTable.get_item\n  File \"pandas\\_libs\\hashtable_class_helper.pxi\", line 1218, in pandas._libs.hashtable.PyObjectHashTable.get_item\nKeyError: 'PredGenderAge18'\n\nDuring handling of the above exception, another exception occurred:\n\nTraceback (most recent call last):\n  File \"Cell Tests\", line 25, in test_titanic7\n  File \"C:\\Users\\Tom Horvat\\Anaconda2\\lib\\site-packages\\pandas\\core\\frame.py\", line 1964, in __getitem__\n    return self._getitem_column(key)\n  File \"C:\\Users\\Tom Horvat\\Anaconda2\\lib\\site-packages\\pandas\\core\\frame.py\", line 1971, in _getitem_column\n    return self._get_item_cache(key)\n  File \"C:\\Users\\Tom Horvat\\Anaconda2\\lib\\site-packages\\pandas\\core\\generic.py\", line 1645, in _get_item_cache\n    values = self._data.get(item)\n  File \"C:\\Users\\Tom Horvat\\Anaconda2\\lib\\site-packages\\pandas\\core\\internals.py\", line 3590, in get\n    loc = self.items.get_loc(item)\n  File \"C:\\Users\\Tom Horvat\\Anaconda2\\lib\\site-packages\\pandas\\core\\indexes\\base.py\", line 2444, in get_loc\n    return self._engine.get_loc(self._maybe_cast_indexer(key))\n  File \"pandas\\_libs\\index.pyx\", line 132, in pandas._libs.index.IndexEngine.get_loc\n  File \"pandas\\_libs\\index.pyx\", line 154, in pandas._libs.index.IndexEngine.get_loc\n  File \"pandas\\_libs\\hashtable_class_helper.pxi\", line 1210, in pandas._libs.hashtable.PyObjectHashTable.get_item\n  File \"pandas\\_libs\\hashtable_class_helper.pxi\", line 1218, in pandas._libs.hashtable.PyObjectHashTable.get_item\nKeyError: 'PredGenderAge18'\n\n======================================================================\nERROR: test_titanic8 (__main__.TestExercise3)\n----------------------------------------------------------------------\nTraceback (most recent call last):\n  File \"Cell Tests\", line 27, in test_titanic8\nNameError: name 'AccGenderAge13' is not defined\n\n======================================================================\nERROR: test_titanic9 (__main__.TestExercise3)\n----------------------------------------------------------------------\nTraceback (most recent call last):\n  File \"Cell Tests\", line 29, in test_titanic9\nNameError: name 'AccGenderAge18' is not defined\n\n======================================================================\nFAIL: test_forif2 (__main__.TestExercise3)\n----------------------------------------------------------------------\nTraceback (most recent call last):\n  File \"Cell Tests\", line 5, in test_forif2\nAssertionError: False is not true\n\n======================================================================\nFAIL: test_titanic1 (__main__.TestExercise3)\n----------------------------------------------------------------------\nTraceback (most recent call last):\n  File \"Cell Tests\", line 13, in test_titanic1\nAssertionError: 0.61616161616161613 != 61.6161616162 within 7 places\n\n======================================================================\nFAIL: test_titanic11 (__main__.TestExercise3)\n----------------------------------------------------------------------\nTraceback (most recent call last):\n  File \"Cell Tests\", line 33, in test_titanic11\nAssertionError: False is not true\n\n======================================================================\nFAIL: test_titanic2 (__main__.TestExercise3)\n----------------------------------------------------------------------\nTraceback (most recent call last):\n  File \"Cell Tests\", line 15, in test_titanic2\nAssertionError: 0.78675645342312006 != 78.6756453423 within 7 places\n\n======================================================================\nFAIL: test_titanic6 (__main__.TestExercise3)\n----------------------------------------------------------------------\nTraceback (most recent call last):\n  File \"Cell Tests\", line 23, in test_titanic6\nAssertionError: 0.07761529808773904 != 0.393939393939 within 7 places\n\n----------------------------------------------------------------------\nRan 15 tests in 0.141s\n\nFAILED (failures=5, errors=4)\n",
       "previous": 0
      },
      "text/plain": [
       "Fail"
      ]
     },
     "metadata": {},
     "output_type": "display_data"
    },
    {
     "name": "stdout",
     "output_type": "stream",
     "text": [
      ".EF.F.FF...FEEE\n",
      "======================================================================\n",
      "ERROR: test_forif1 (__main__.TestExercise3)\n",
      "----------------------------------------------------------------------\n",
      "Traceback (most recent call last):\n",
      "  File \"Cell Tests\", line 3, in test_forif1\n",
      "NameError: name 'fivetoten' is not defined\n",
      "\n",
      "======================================================================\n",
      "ERROR: test_titanic7 (__main__.TestExercise3)\n",
      "----------------------------------------------------------------------\n",
      "Traceback (most recent call last):\n",
      "  File \"C:\\Users\\Tom Horvat\\Anaconda2\\lib\\site-packages\\pandas\\core\\indexes\\base.py\", line 2442, in get_loc\n",
      "    return self._engine.get_loc(key)\n",
      "  File \"pandas\\_libs\\index.pyx\", line 132, in pandas._libs.index.IndexEngine.get_loc\n",
      "  File \"pandas\\_libs\\index.pyx\", line 154, in pandas._libs.index.IndexEngine.get_loc\n",
      "  File \"pandas\\_libs\\hashtable_class_helper.pxi\", line 1210, in pandas._libs.hashtable.PyObjectHashTable.get_item\n",
      "  File \"pandas\\_libs\\hashtable_class_helper.pxi\", line 1218, in pandas._libs.hashtable.PyObjectHashTable.get_item\n",
      "KeyError: 'PredGenderAge18'\n",
      "\n",
      "During handling of the above exception, another exception occurred:\n",
      "\n",
      "Traceback (most recent call last):\n",
      "  File \"Cell Tests\", line 25, in test_titanic7\n",
      "  File \"C:\\Users\\Tom Horvat\\Anaconda2\\lib\\site-packages\\pandas\\core\\frame.py\", line 1964, in __getitem__\n",
      "    return self._getitem_column(key)\n",
      "  File \"C:\\Users\\Tom Horvat\\Anaconda2\\lib\\site-packages\\pandas\\core\\frame.py\", line 1971, in _getitem_column\n",
      "    return self._get_item_cache(key)\n",
      "  File \"C:\\Users\\Tom Horvat\\Anaconda2\\lib\\site-packages\\pandas\\core\\generic.py\", line 1645, in _get_item_cache\n",
      "    values = self._data.get(item)\n",
      "  File \"C:\\Users\\Tom Horvat\\Anaconda2\\lib\\site-packages\\pandas\\core\\internals.py\", line 3590, in get\n",
      "    loc = self.items.get_loc(item)\n",
      "  File \"C:\\Users\\Tom Horvat\\Anaconda2\\lib\\site-packages\\pandas\\core\\indexes\\base.py\", line 2444, in get_loc\n",
      "    return self._engine.get_loc(self._maybe_cast_indexer(key))\n",
      "  File \"pandas\\_libs\\index.pyx\", line 132, in pandas._libs.index.IndexEngine.get_loc\n",
      "  File \"pandas\\_libs\\index.pyx\", line 154, in pandas._libs.index.IndexEngine.get_loc\n",
      "  File \"pandas\\_libs\\hashtable_class_helper.pxi\", line 1210, in pandas._libs.hashtable.PyObjectHashTable.get_item\n",
      "  File \"pandas\\_libs\\hashtable_class_helper.pxi\", line 1218, in pandas._libs.hashtable.PyObjectHashTable.get_item\n",
      "KeyError: 'PredGenderAge18'\n",
      "\n",
      "======================================================================\n",
      "ERROR: test_titanic8 (__main__.TestExercise3)\n",
      "----------------------------------------------------------------------\n",
      "Traceback (most recent call last):\n",
      "  File \"Cell Tests\", line 27, in test_titanic8\n",
      "NameError: name 'AccGenderAge13' is not defined\n",
      "\n",
      "======================================================================\n",
      "ERROR: test_titanic9 (__main__.TestExercise3)\n",
      "----------------------------------------------------------------------\n",
      "Traceback (most recent call last):\n",
      "  File \"Cell Tests\", line 29, in test_titanic9\n",
      "NameError: name 'AccGenderAge18' is not defined\n",
      "\n",
      "======================================================================\n",
      "FAIL: test_forif2 (__main__.TestExercise3)\n",
      "----------------------------------------------------------------------\n",
      "Traceback (most recent call last):\n",
      "  File \"Cell Tests\", line 5, in test_forif2\n",
      "AssertionError: False is not true\n",
      "\n",
      "======================================================================\n",
      "FAIL: test_titanic1 (__main__.TestExercise3)\n",
      "----------------------------------------------------------------------\n",
      "Traceback (most recent call last):\n",
      "  File \"Cell Tests\", line 13, in test_titanic1\n",
      "AssertionError: 0.61616161616161613 != 61.6161616162 within 7 places\n",
      "\n",
      "======================================================================\n",
      "FAIL: test_titanic11 (__main__.TestExercise3)\n",
      "----------------------------------------------------------------------\n",
      "Traceback (most recent call last):\n",
      "  File \"Cell Tests\", line 33, in test_titanic11\n",
      "AssertionError: False is not true\n",
      "\n",
      "======================================================================\n",
      "FAIL: test_titanic2 (__main__.TestExercise3)\n",
      "----------------------------------------------------------------------\n",
      "Traceback (most recent call last):\n",
      "  File \"Cell Tests\", line 15, in test_titanic2\n",
      "AssertionError: 0.78675645342312006 != 78.6756453423 within 7 places\n",
      "\n",
      "======================================================================\n",
      "FAIL: test_titanic6 (__main__.TestExercise3)\n",
      "----------------------------------------------------------------------\n",
      "Traceback (most recent call last):\n",
      "  File \"Cell Tests\", line 23, in test_titanic6\n",
      "AssertionError: 0.07761529808773904 != 0.393939393939 within 7 places\n",
      "\n",
      "----------------------------------------------------------------------\n",
      "Ran 15 tests in 0.141s\n",
      "\n",
      "FAILED (failures=5, errors=4)\n"
     ]
    },
    {
     "data": {
      "text/plain": [
       "<unittest.runner.TextTestResult run=15 errors=4 failures=5>"
      ]
     },
     "execution_count": 23,
     "metadata": {},
     "output_type": "execute_result"
    }
   ],
   "source": [
    "%%unittest_main\n",
    "class TestExercise3(unittest.TestCase):\n",
    "    def test_forif1(self):\n",
    "        self.assertTrue(fivetoten == [5,6,7,8,9,10])\n",
    "    def test_forif2(self):\n",
    "        self.assertTrue(divby7 == [7,14,21,28,35,42,49])\n",
    "    def test_forif(self):\n",
    "        self.assertTrue(divby7not5 == [10003, 10017, 10024, 10031, 10038, 10052, 10059, 10066, 10073, 10087, 10094])\n",
    "    def test_functions(self):\n",
    "        self.assertTrue(divby2 == [12, 34, 54, 34, 34, 54])\n",
    "    def test_functions(self):\n",
    "        self.assertTrue(divby2mod == [12, 34, 54, 34, 34, 54])\n",
    "    def test_titanic1(self):\n",
    "        self.assertAlmostEqual(AccEveryoneDies, 61.6161616162)\n",
    "    def test_titanic2(self):\n",
    "        self.assertAlmostEqual(AccGender, 78.6756453423)\n",
    "    def test_titanic3(self):\n",
    "        self.assertAlmostEqual(train['PredEveryoneDies'].mean(), 0.0)\n",
    "    def test_titanic4(self):\n",
    "        self.assertAlmostEqual(train['PredGender'].mean(), 0.35241301908)\n",
    "    def test_titanic5(self):\n",
    "        self.assertTrue(['PassengerId', 'Survived']==list(pd.read_csv('submiteveryonedies.csv').columns.values))\n",
    "    def test_titanic6(self):\n",
    "        self.assertAlmostEqual(train['PredGenderAge13'].mean(), 0.393939393939)\n",
    "    def test_titanic7(self):\n",
    "        self.assertAlmostEqual(train['PredGenderAge18'].mean(), 0.417508417508)\n",
    "    def test_titanic8(self):\n",
    "        self.assertAlmostEqual(AccGenderAge13, 79.2368125701)\n",
    "    def test_titanic9(self):\n",
    "        self.assertAlmostEqual(AccGenderAge18, 77.3288439955)\n",
    "    def test_titanic10(self):\n",
    "        self.assertTrue(train['child'].sum()==69)\n",
    "    def test_titanic11(self):\n",
    "        self.assertTrue(test['child'].sum()==25)"
   ]
  },
  {
   "cell_type": "code",
   "execution_count": 24,
   "metadata": {
    "collapsed": true
   },
   "outputs": [],
   "source": [
    "#This is a collection of all of the tests from the exercises above. "
   ]
  },
  {
   "cell_type": "code",
   "execution_count": null,
   "metadata": {
    "collapsed": true
   },
   "outputs": [],
   "source": []
  }
 ],
 "metadata": {
  "anaconda-cloud": {},
  "celltoolbar": "Slideshow",
  "kernelspec": {
   "display_name": "Python 3",
   "language": "python",
   "name": "python3"
  },
  "language_info": {
   "codemirror_mode": {
    "name": "ipython",
    "version": 3
   },
   "file_extension": ".py",
   "mimetype": "text/x-python",
   "name": "python",
   "nbconvert_exporter": "python",
   "pygments_lexer": "ipython3",
   "version": "3.6.3"
  }
 },
 "nbformat": 4,
 "nbformat_minor": 1
}
